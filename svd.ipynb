{
 "cells": [
  {
   "cell_type": "code",
   "execution_count": null,
   "metadata": {
    "ExecuteTime": {
     "end_time": "2022-01-10T11:50:35.230840Z",
     "start_time": "2022-01-10T11:50:34.242292Z"
    }
   },
   "outputs": [],
   "source": [
    "import os\n",
    "\n",
    "import numpy as np\n",
    "import pandas as pd\n",
    "\n",
    "import matplotlib.pyplot as plt\n",
    "import plotly.express as px\n",
    "import plotly.graph_objects as go"
   ]
  },
  {
   "cell_type": "code",
   "execution_count": null,
   "metadata": {},
   "outputs": [],
   "source": [
    "import plotly.io as pio\n",
    "pio.renderers.default = \"plotly_mimetype+notebook+vscode+pdf\""
   ]
  },
  {
   "cell_type": "code",
   "execution_count": null,
   "metadata": {
    "ExecuteTime": {
     "end_time": "2022-01-10T11:50:35.243757Z",
     "start_time": "2022-01-10T11:50:35.238770Z"
    }
   },
   "outputs": [],
   "source": [
    "def create_folder(folder_name):\n",
    "    if not os.path.exists(folder_name):\n",
    "        print(f'Creating folder {folder_name}')\n",
    "        os.mkdir(folder_name)\n",
    "\n",
    "# to always have the newest plot versions, delete file before creating new one\n",
    "def remove_file_if_exists(file_path):\n",
    "    if os.path.exists(file_path):\n",
    "        os.remove(file_path)\n",
    "\n",
    "create_folder('data/')\n",
    "create_folder('data/svd')"
   ]
  },
  {
   "cell_type": "code",
   "execution_count": null,
   "metadata": {},
   "outputs": [],
   "source": [
    "# keep only needed data\n",
    "def truncate_df(df, columns_to_keep, years=None, months=None, hours=None):\n",
    "    # modify timestamp column\n",
    "    df['date_time'] = pd.to_datetime(df['date_time'],format='%Y-%m-%d %H:%M:%S')\n",
    "\n",
    "    # build prefix str\n",
    "    prefix_str = 'columns-' + '_'.join(columns_to_keep)\n",
    "    columns_to_keep = ['date_time'] + columns_to_keep + ['city']\n",
    "    df = df[columns_to_keep]\n",
    "\n",
    "    if years:\n",
    "        df = df[df['date_time'].dt.year.isin(years)]\n",
    "        prefix_str += '-years-' + '_'.join(map(str, years))\n",
    "\n",
    "    if months:\n",
    "        df = df[df['date_time'].dt.month.isin(months)]\n",
    "        prefix_str += '-months-' + '_'.join(map(str, months))\n",
    "\n",
    "    if hours:\n",
    "        df = df[df['date_time'].dt.hour.isin(hours)]\n",
    "        prefix_str += '-hours-' + '_'.join(map(str, hours))\n",
    "\n",
    "    prefix_str = prefix_str.replace(' ', '')\n",
    "    return df, prefix_str"
   ]
  },
  {
   "cell_type": "markdown",
   "metadata": {},
   "source": [
    "## Prepare Data for SVD Analysis"
   ]
  },
  {
   "cell_type": "code",
   "execution_count": null,
   "metadata": {
    "ExecuteTime": {
     "end_time": "2022-01-10T11:50:35.263703Z",
     "start_time": "2022-01-10T11:50:35.254728Z"
    }
   },
   "outputs": [],
   "source": [
    "# function to create csv file used for analysis\n",
    "def create_svd_df(df, column_value, outstring):\n",
    "    OUTPUT_FILENAME = f'data/svd/data_svd_{outstring}.csv'\n",
    "    \n",
    "    unique_towns = sorted(list(df['city'].unique()))\n",
    "    \n",
    "    new_index = pd.to_datetime(df['date_time'],format='%Y-%m-%d %H:%M:%S').unique()\n",
    "    data = np.array(df[column_value])\n",
    "    data = data.reshape(len(new_index), len(unique_towns))\n",
    "\n",
    "    ret_df = pd.DataFrame(\n",
    "        data=data, \n",
    "        columns=unique_towns, \n",
    "        index=new_index, \n",
    "        dtype=float\n",
    "    )\n",
    "    ret_df.to_csv(OUTPUT_FILENAME)"
   ]
  },
  {
   "cell_type": "code",
   "execution_count": null,
   "metadata": {
    "ExecuteTime": {
     "end_time": "2022-01-10T11:50:35.252735Z",
     "start_time": "2022-01-10T11:50:35.246749Z"
    }
   },
   "outputs": [],
   "source": [
    "# svd global variables and creating dirs\n",
    "SVD_FOLDER_PATH = 'svd_plots'\n",
    "create_folder(SVD_FOLDER_PATH)\n",
    "\n",
    "FULL_DATA_FILENAME = 'data/data.csv.gz'\n",
    "\n",
    "COLUMNS_TO_KEEP = ['tempC']\n",
    "df_data = pd.read_csv(FULL_DATA_FILENAME, compression='gzip')\n",
    "\n",
    "df_data, PREFIX_STR = truncate_df(\n",
    "    df=df_data.copy(),\n",
    "    columns_to_keep=COLUMNS_TO_KEEP,\n",
    "    months=[11,12,1,2],\n",
    ")\n",
    "\n",
    "SVD_FOLDER_PATH = f'{SVD_FOLDER_PATH}/{PREFIX_STR}'\n",
    "create_folder(SVD_FOLDER_PATH)\n",
    "\n",
    "# create reconstuction dir\n",
    "# SVD_RECONSTUCTION_FOLDER_PATH = f'{SVD_FOLDER_PATH}/reconstuction'\n",
    "# create_folder(SVD_RECONSTUCTION_FOLDER_PATH)"
   ]
  },
  {
   "cell_type": "code",
   "execution_count": null,
   "metadata": {
    "ExecuteTime": {
     "end_time": "2022-01-10T11:50:35.280657Z",
     "start_time": "2022-01-10T11:50:35.265698Z"
    }
   },
   "outputs": [],
   "source": [
    "GEOLOCATION_FILENAME = 'data/geo_position.csv'\n",
    "df_geolocation = pd.read_csv(GEOLOCATION_FILENAME).sort_values(by='CITY')\n",
    "unique_towns = sorted(list(df_geolocation['CITY'].unique()))  # get unique names of towns ordered by name\n",
    "\n",
    "SVD_DATA_FILENAME = f'data/svd/data_svd_{PREFIX_STR}.csv'\n",
    "\n",
    "if not os.path.exists(SVD_DATA_FILENAME):\n",
    "    print(f'Creating svd file for {PREFIX_STR}')\n",
    "    create_svd_df(df=df_data, column_value=COLUMNS_TO_KEEP, outstring=PREFIX_STR)"
   ]
  },
  {
   "cell_type": "markdown",
   "metadata": {},
   "source": [
    "## SVD"
   ]
  },
  {
   "cell_type": "code",
   "execution_count": null,
   "metadata": {
    "ExecuteTime": {
     "end_time": "2022-01-10T11:50:35.479205Z",
     "start_time": "2022-01-10T11:50:35.282652Z"
    }
   },
   "outputs": [],
   "source": [
    "print(f'Loading svd file for {PREFIX_STR}')\n",
    "df_svd = pd.read_csv(SVD_DATA_FILENAME, index_col=0)\n",
    "df_svd.index = pd.to_datetime(df_svd.index)\n",
    "\n",
    "# df_svd = trunc_df(df_svd)\n",
    "svd_A = np.array(df_svd)\n",
    "\n",
    "# build matrix U, S, V\n",
    "svd_U, svd_S, svd_V = np.linalg.svd(svd_A, full_matrices=False)"
   ]
  },
  {
   "cell_type": "markdown",
   "metadata": {},
   "source": [
    "### Precision of SVD Resconstrucion"
   ]
  },
  {
   "cell_type": "code",
   "execution_count": null,
   "metadata": {
    "ExecuteTime": {
     "end_time": "2022-01-10T11:50:35.490147Z",
     "start_time": "2022-01-10T11:50:35.483166Z"
    }
   },
   "outputs": [],
   "source": [
    "# function to calculate and plot precision of svd reconstruction\n",
    "def svd_precision(svd_S):\n",
    "    SVD_PRECISION_FILENAME = f'{SVD_FOLDER_PATH}/{PREFIX_STR}_svd_precision.png'\n",
    "    remove_file_if_exists(SVD_PRECISION_FILENAME)\n",
    "    \n",
    "    fig = go.Figure(\n",
    "        data=[go.Bar(\n",
    "                x=np.arange(np.size(svd_S)),\n",
    "                y=np.cumsum(svd_S / np.sum(svd_S))\n",
    "            )\n",
    "        ]\n",
    "    )\n",
    "    \n",
    "    fig.update_layout(\n",
    "        title_text='SVD Precision', \n",
    "        title_x=0.5,\n",
    "        xaxis_title='Rank', \n",
    "        yaxis_title='Precision',\n",
    "        width=1485,\n",
    "        height=450,\n",
    "    )\n",
    "    fig.update_yaxes(range=[0.5, 1])\n",
    "    fig.write_image(SVD_PRECISION_FILENAME)\n",
    "    fig.show()"
   ]
  },
  {
   "cell_type": "code",
   "execution_count": null,
   "metadata": {
    "ExecuteTime": {
     "end_time": "2022-01-10T11:50:41.499735Z",
     "start_time": "2022-01-10T11:50:35.493139Z"
    }
   },
   "outputs": [],
   "source": [
    "# Calculating svd reconstruction precision\n",
    "svd_precision(svd_S)"
   ]
  },
  {
   "cell_type": "markdown",
   "metadata": {},
   "source": [
    "### Full Reconstruction & Lower Rank Reconstruction"
   ]
  },
  {
   "cell_type": "code",
   "execution_count": null,
   "metadata": {
    "ExecuteTime": {
     "end_time": "2022-01-10T11:50:41.563526Z",
     "start_time": "2022-01-10T11:50:41.501692Z"
    }
   },
   "outputs": [],
   "source": [
    "# full reconstruction - matrix svd_Ar\n",
    "svd_Ar = np.dot(svd_U * svd_S, svd_V)\n",
    "print(f'Diff: {np.mean(np.abs(svd_A - svd_Ar))}')\n",
    "\n",
    "# lower rank reconstruction - matrix svd_Ar\n",
    "k = 5\n",
    "svd_Ar = np.dot(svd_U[:,:k] * svd_S[:k], svd_V[:k, :])\n",
    "\n",
    "print(f'Diff reconstruction: {np.mean(np.abs(svd_A - svd_Ar))}')"
   ]
  },
  {
   "cell_type": "markdown",
   "metadata": {},
   "source": [
    "### Average SVD Error"
   ]
  },
  {
   "cell_type": "code",
   "execution_count": null,
   "metadata": {
    "ExecuteTime": {
     "end_time": "2022-01-10T11:50:41.571508Z",
     "start_time": "2022-01-10T11:50:41.565522Z"
    }
   },
   "outputs": [],
   "source": [
    "# function to calculate and plot average error of svd for k=n\n",
    "def svd_average_error(svd_A, svd_Ar, k, unique_towns):\n",
    "    SVD_AVG_ERR_FILENAME = f'{SVD_FOLDER_PATH}/{PREFIX_STR}_svd_avg_err.png'\n",
    "    remove_file_if_exists(SVD_AVG_ERR_FILENAME)\n",
    "\n",
    "    svd_err = np.average(np.abs(svd_A - svd_Ar), axis=0)\n",
    "    asix_range = np.arange(0, len(unique_towns))\n",
    "\n",
    "    fig = go.Figure(\n",
    "        data=[\n",
    "                go.Bar(\n",
    "                    x=asix_range,\n",
    "                    y=svd_err\n",
    "                )\n",
    "        ]\n",
    "    )\n",
    "\n",
    "    fig.update_layout(\n",
    "        title_text='SVD Average Error', title_x=0.5,\n",
    "        yaxis_title=f'Average error of reconstruction with rank k={k}',\n",
    "        xaxis=dict(tickmode='array',\n",
    "            tickvals=asix_range,\n",
    "            ticktext=unique_towns\n",
    "        ),\n",
    "        width=1485,\n",
    "        height=450,\n",
    "    )\n",
    "    fig.update_xaxes(tickangle=90)\n",
    "    fig.write_image(SVD_AVG_ERR_FILENAME)\n",
    "    fig.show()"
   ]
  },
  {
   "cell_type": "code",
   "execution_count": null,
   "metadata": {
    "ExecuteTime": {
     "end_time": "2022-01-10T11:50:41.784935Z",
     "start_time": "2022-01-10T11:50:41.574501Z"
    }
   },
   "outputs": [],
   "source": [
    "# Calculating average error\n",
    "svd_average_error(\n",
    "    svd_A=svd_A, \n",
    "    svd_Ar=svd_Ar, \n",
    "    k=k, \n",
    "    unique_towns=unique_towns\n",
    ")"
   ]
  },
  {
   "cell_type": "markdown",
   "metadata": {},
   "source": [
    "### Dates to Concept - SVD_U"
   ]
  },
  {
   "cell_type": "code",
   "execution_count": null,
   "metadata": {
    "ExecuteTime": {
     "end_time": "2022-01-10T11:50:41.790923Z",
     "start_time": "2022-01-10T11:50:41.785933Z"
    }
   },
   "outputs": [],
   "source": [
    "# function to plot dates to concept for k=n\n",
    "def svd_dates_to_concept(k, index, svd_U, trim=False):\n",
    "    SVD_DTC_FILENAME = f'{SVD_FOLDER_PATH}/{PREFIX_STR}_svd_dates_to_concept.png'\n",
    "    remove_file_if_exists(SVD_DTC_FILENAME)\n",
    "\n",
    "    fig = go.Figure()\n",
    "    # if we have limited date range\n",
    "    if trim == True:\n",
    "        x_tmp = np.arange(0, len(index))\n",
    "        for i in range(k):\n",
    "            fig.add_trace(go.Scatter(\n",
    "                x=x_tmp,\n",
    "                y=svd_U[:, i], name=f'k={i}'\n",
    "            ))\n",
    "        fig.update_layout(\n",
    "            xaxis=dict(\n",
    "                showticklabels=False,\n",
    "            ),\n",
    "            title=dict(\n",
    "                text='Dates to Concept - Ploted as Continous Function', \n",
    "                x=0.5,\n",
    "            )\n",
    "        )\n",
    "    # if we have full date range\n",
    "    else:\n",
    "        for i in range(k):\n",
    "            fig.add_trace(go.Scatter(\n",
    "                x=index,\n",
    "                y=svd_U[:, i], name=f'k={i}'\n",
    "            ))\n",
    "            fig.update_layout(\n",
    "                title=dict(\n",
    "                    text='Dates to Concept', \n",
    "                    x=0.5,\n",
    "                )\n",
    "        )\n",
    "         \n",
    "    fig.write_image(SVD_DTC_FILENAME)\n",
    "    \n",
    "    fig.update_layout(\n",
    "        xaxis=dict(\n",
    "            rangeslider=dict(visible=True),\n",
    "        ),\n",
    "        width=1485,\n",
    "        height=450,\n",
    "    )\n",
    "    fig.show()"
   ]
  },
  {
   "cell_type": "code",
   "execution_count": null,
   "metadata": {
    "ExecuteTime": {
     "end_time": "2022-01-10T11:50:45.272607Z",
     "start_time": "2022-01-10T11:50:41.792916Z"
    }
   },
   "outputs": [],
   "source": [
    "# dates to concept\n",
    "svd_dates_to_concept(\n",
    "    k=k, \n",
    "    index=df_svd.index, \n",
    "    svd_U=svd_U,\n",
    ")"
   ]
  },
  {
   "cell_type": "code",
   "execution_count": null,
   "metadata": {},
   "outputs": [],
   "source": [
    "if 'months-' in PREFIX_STR or 'years-' in PREFIX_STR:\n",
    "    svd_dates_to_concept(\n",
    "    k=k, \n",
    "    index=df_svd.index, \n",
    "    svd_U=svd_U,\n",
    "    trim=True\n",
    ")"
   ]
  },
  {
   "cell_type": "markdown",
   "metadata": {},
   "source": [
    "### Towns to Concept - SVD_V"
   ]
  },
  {
   "cell_type": "code",
   "execution_count": null,
   "metadata": {
    "ExecuteTime": {
     "end_time": "2022-01-10T11:50:45.282552Z",
     "start_time": "2022-01-10T11:50:45.274574Z"
    }
   },
   "outputs": [],
   "source": [
    "# function to plot towns to concept for k=n\n",
    "def svd_towns_to_concept(k, svd_V, unique_towns, type='bar'):\n",
    "    SVD_TTC_FILENAME = f'{SVD_FOLDER_PATH}/{PREFIX_STR}_svd_towns_to_concept.png'\n",
    "    remove_file_if_exists(SVD_TTC_FILENAME)\n",
    "    \n",
    "    asix_range = np.arange(0, len(unique_towns))\n",
    "    all_plots = []\n",
    "    for i in range(k):\n",
    "        if type == 'bar':\n",
    "            all_plots.append(go.Bar(x=asix_range, y=svd_V[i, :], name=f'{i}'))\n",
    "        elif type == 'lines':\n",
    "            all_plots.append(go.Scatter(mode='lines', x=asix_range, y=svd_V[i, :], name=f'{i}'))\n",
    "        \n",
    "    fig = go.Figure(data=all_plots)\n",
    "    \n",
    "    fig.update_layout(\n",
    "        title_text=f'Towns to Concept - {type.capitalize()}', \n",
    "        title_x=0.5,\n",
    "        xaxis=dict(\n",
    "                tickmode='array',\n",
    "                tickvals=asix_range,\n",
    "                ticktext=unique_towns\n",
    "        ),\n",
    "        width=1485,\n",
    "        height=450,\n",
    "    )\n",
    "    \n",
    "    fig.update_xaxes(tickangle=90)\n",
    "    fig.write_image(SVD_TTC_FILENAME)\n",
    "    fig.show()"
   ]
  },
  {
   "cell_type": "code",
   "execution_count": null,
   "metadata": {
    "ExecuteTime": {
     "end_time": "2022-01-10T11:50:45.465100Z",
     "start_time": "2022-01-10T11:50:45.284556Z"
    }
   },
   "outputs": [],
   "source": [
    "# towns to concept\n",
    "svd_towns_to_concept(\n",
    "    k=k,\n",
    "    svd_V=svd_V, \n",
    "    unique_towns=unique_towns\n",
    ")"
   ]
  },
  {
   "cell_type": "code",
   "execution_count": null,
   "metadata": {},
   "outputs": [],
   "source": [
    "# towns to concept\n",
    "svd_towns_to_concept(\n",
    "    k=k,\n",
    "    svd_V=svd_V, \n",
    "    unique_towns=unique_towns,\n",
    "    type='lines'\n",
    ")"
   ]
  },
  {
   "cell_type": "markdown",
   "metadata": {},
   "source": [
    "### Singular Vector - SVD_S"
   ]
  },
  {
   "cell_type": "code",
   "execution_count": null,
   "metadata": {},
   "outputs": [],
   "source": [
    "'; '.join(map(str, svd_S))"
   ]
  },
  {
   "cell_type": "markdown",
   "metadata": {},
   "source": [
    "### SVD Maps"
   ]
  },
  {
   "cell_type": "code",
   "execution_count": null,
   "metadata": {
    "ExecuteTime": {
     "end_time": "2022-01-10T11:50:45.474066Z",
     "start_time": "2022-01-10T11:50:45.466061Z"
    }
   },
   "outputs": [],
   "source": [
    "# plot map with values from SVD_V (towns to concept)\n",
    "def plot_svd_map(vector, k, data_geo):\n",
    "    SVD_MAP_FILENAME = f'{SVD_FOLDER_PATH}/{PREFIX_STR}_svd_map_k{k}.png'\n",
    "    remove_file_if_exists(SVD_MAP_FILENAME)\n",
    "    \n",
    "    data_geo['VALUES'] = vector\n",
    "    px.set_mapbox_access_token(open(\".mapbox_token\").read())\n",
    "    \n",
    "    fig = px.scatter_mapbox(\n",
    "        data_geo,\n",
    "        size = [2] * len(data_geo.index), \n",
    "        lat=\"LAT\", \n",
    "        lon=\"LNG\", \n",
    "        color=\"VALUES\",\n",
    "        hover_name=\"CITY\",\n",
    "        color_continuous_scale=px.colors.cyclical.Phase,\n",
    "    )\n",
    "    \n",
    "    fig.update_layout(\n",
    "        width=1485,\n",
    "        height = 700,\n",
    "        margin = {\n",
    "            'l':5,\n",
    "            'r':5,\n",
    "            't':5,\n",
    "            'b':5,\n",
    "        },\n",
    "        autosize=True,\n",
    "        mapbox = {\n",
    "            'style': \"open-street-map\",\n",
    "            'zoom': 7.5\n",
    "        }\n",
    "    )\n",
    "    fig.write_image(SVD_MAP_FILENAME)\n",
    "    fig.show()"
   ]
  },
  {
   "cell_type": "code",
   "execution_count": null,
   "metadata": {
    "ExecuteTime": {
     "end_time": "2022-01-10T11:50:55.181258Z",
     "start_time": "2022-01-10T11:50:45.476035Z"
    },
    "scrolled": false
   },
   "outputs": [],
   "source": [
    "# plot maps\n",
    "for i in range(k):\n",
    "    print(f'Ploting map for k = {i}')\n",
    "    plot_svd_map(\n",
    "        vector=svd_V[i, :], \n",
    "        k=i, \n",
    "        data_geo=df_geolocation.copy()\n",
    "    )"
   ]
  },
  {
   "cell_type": "markdown",
   "metadata": {},
   "source": [
    "# Export to HTML"
   ]
  },
  {
   "cell_type": "code",
   "execution_count": null,
   "metadata": {
    "ExecuteTime": {
     "end_time": "2022-01-10T11:51:47.330175Z",
     "start_time": "2022-01-10T11:51:47.327173Z"
    }
   },
   "outputs": [],
   "source": [
    "# save notebook before nbconvert\n",
    "import IPython\n",
    "import time\n",
    "\n",
    "# wait few sec for plot above to finish\n",
    "time.sleep(3)"
   ]
  },
  {
   "cell_type": "code",
   "execution_count": null,
   "metadata": {
    "ExecuteTime": {
     "end_time": "2022-01-10T11:51:47.349342Z",
     "start_time": "2022-01-10T11:51:47.332161Z"
    }
   },
   "outputs": [],
   "source": [
    "%%javascript\n",
    "IPython.notebook.save_notebook()"
   ]
  },
  {
   "cell_type": "code",
   "execution_count": null,
   "metadata": {
    "ExecuteTime": {
     "end_time": "2022-01-10T11:51:57.062783Z",
     "start_time": "2022-01-10T11:51:47.357317Z"
    }
   },
   "outputs": [],
   "source": [
    "# export notebook results to HTML\n",
    "jupyter_out_filename = f'{PREFIX_STR}_svd'\n",
    "!jupyter nbconvert --output-dir 'output' --output {jupyter_out_filename} --to=HTML svd.ipynb\n",
    "!jupyter nbconvert --output-dir 'output' --output {jupyter_out_filename} --to=pdf svd.ipynb\n",
    "\n",
    "jupyter_out_filename_no_code = f'{PREFIX_STR}_svd_no_code'\n",
    "!jupyter nbconvert --output-dir 'output' --output {jupyter_out_filename_no_code} --no-input --to=HTML svd.ipynb\n",
    "!jupyter nbconvert --output-dir 'output' --output {jupyter_out_filename_no_code} --no-input --to=pdf svd.ipynb"
   ]
  }
 ],
 "metadata": {
  "hide_input": false,
  "interpreter": {
   "hash": "769079bfd2f593738bdd7839f74288d023e8009b057a18c47c18c614eadd7a4d"
  },
  "kernelspec": {
   "display_name": "Python 3.9.12 ('venv': venv)",
   "language": "python",
   "name": "python3"
  },
  "language_info": {
   "codemirror_mode": {
    "name": "ipython",
    "version": 3
   },
   "file_extension": ".py",
   "mimetype": "text/x-python",
   "name": "python",
   "nbconvert_exporter": "python",
   "pygments_lexer": "ipython3",
   "version": "3.9.12"
  },
  "varInspector": {
   "cols": {
    "lenName": 16,
    "lenType": 16,
    "lenVar": 40
   },
   "kernels_config": {
    "python": {
     "delete_cmd_postfix": "",
     "delete_cmd_prefix": "del ",
     "library": "var_list.py",
     "varRefreshCmd": "print(var_dic_list())"
    },
    "r": {
     "delete_cmd_postfix": ") ",
     "delete_cmd_prefix": "rm(",
     "library": "var_list.r",
     "varRefreshCmd": "cat(var_dic_list()) "
    }
   },
   "position": {
    "height": "470.85px",
    "left": "1099px",
    "right": "20px",
    "top": "103px",
    "width": "350px"
   },
   "types_to_exclude": [
    "module",
    "function",
    "builtin_function_or_method",
    "instance",
    "_Feature"
   ],
   "window_display": false
  }
 },
 "nbformat": 4,
 "nbformat_minor": 2
}
